{
 "cells": [
  {
   "cell_type": "markdown",
   "metadata": {},
   "source": [
    "##Ejercicios Cormen"
   ]
  },
  {
   "cell_type": "markdown",
   "metadata": {
    "collapsed": false
   },
   "source": [
    "#Ejercicio 3.1-2\n",
    "\n",
    "Sea c = 2^b y n0 >= 2a. Entonces para todo n >= n0 tenemos que (n+a)^b <= (2n)^b = cn^b entonces (n+a)^b=O(n^b). Entonces se tiene que n0 >= -a/(1-1/2/b) y c = 1/2. Entonces n >= n0 >= -a/(1-1/2/b) si y solo si (n-(n/2-b) >= -a) si y solo si n + a >= (1/2)^(a/b)*n y si (n+a)^b >= cn^b. Se tiene entonces que (n+a)^b = omega(n^b).\n",
    "\n",
    "#Ejercicio 3.1-7\n",
    "\n",
    "Supongamos que tenemos algún f(n) E omicron(g(n)) y omega(g(n) entonces se tiene que:\n",
    "\n",
    "    0 = lim n -> inf f(n)/g(n) = inf\n",
    "\n",
    "Problema 3-3\n",
    "\n",
    "En orden decreciente:\n",
    "\n",
    "    2^(2^(2n+1)) 2^(2^n) (n+1)! n! n2^n e^n 2^n (3/2)^n (log(n))! n^(lg(lg(n)) n^2 4^(lg(n)) nlgn ln(n!) 2^(lg(n)) n (sqrt(2))^(lg(n) 2^(sqrt(2lgn) lg^2(n) ln(n) sqrt(lg(n)) ln(ln(n))\n",
    "\n",
    "b. Si se define la función:\n",
    "\n",
    "    f(n) = {g1(n)! = n mod 2 = 0 = {1/n = n mod 2 = 1\n",
    "\n",
    "Entonces se tiene que para cada n impar,\n",
    "\n",
    "    ln n -> inf f(2n)/gi(2n) >= lim n -> inf f(2n)/g1(2n) = lim n -> inf (g1(2n) - 1)! = inf\n",
    "\n",
    "entonces para cada n par,\n",
    "\n",
    "    lim n -> inf f(2n+1)/gi(2n+1) <= lim n -> inf f(2n+1) = lim n > inf 1/2n+1 = 0\n",
    "\n",
    "Se puede observar que cuando n es impar se tiene que f(n) no es O(gi(n)) para todo n. Y para cuando n es par, tenemos que f(n) no es omega(gi(n)) para todo n.\n",
    "Use el metodo maestro para dar cotas ajustadas de las siguientes recursiones\n",
    "\n",
    "    T(n) = 8T(n/2)+n\n",
    "\n",
    "    c = 1, a = 8, b = 2 Log2(8) = 3 c < logb(a), entonces: T(n) = theta(n^log2a) = theta(n^3)\n",
    "\n",
    "    T(n) = 8T(n/2) + n^3\n",
    "\n",
    "    c = 3, a = 8, b = 2 Log2(8) = 3 = c c = logb(a) f(n) = theta(n^3log^k(n)) donde k = 0 Luego se tiene: T(n) = theta(n^3logn)\n",
    "\n",
    "    T(n) = 8T(n/2) + n^3\n",
    "\n",
    "    c = 5, a = 8, b = 2 log2(8) = 3 = c c > logb(a), donde f(n) E omega(f(n)\n",
    "\n",
    "#Ejercicio 22.3-1\n",
    "\n",
    "Para grafos dirigidos |from/to| BLACK | GRAY | WHITE| |-------|-------|------|------| |BLACK | Todo tipo| Atrás, cruzado| Atrás, cruzado| |GRAY | Arbol, adelante, cruzado | Arbol, adelante, atras| Atras, cruzado |WHITE | Cruzado, arbol, adelante| Cruzado, atrás| Todo tipo\n",
    "\n",
    "Para grafos no dirigidos |from/to| BLACK | GRAY | WHITE| |-------|-------|------|------| |BLACK| Todo Tipo | Todo tipo| Todo tipo| |GRAY| - | Arbol, adelante, atras| Todo tipo| |WHITE| - | - | Todo tipo\n",
    "\n",
    "#Ejercicio 22.3-2\n",
    "\n",
    "La siguiente tabla muestra el tiempo de descubrimiento y finalizacion para cada vertice en el gráfico.\n",
    "Vertice \tDescubierto \tFinalizado\n",
    "q \t1 \t16\n",
    "r \t17 \t20\n",
    "s \t2 \t7\n",
    "t \t8 \t15\n",
    "u \t18 \t19\n",
    "v \t3 \t6\n",
    "w \t4 \t5\n",
    "x \t9 \t12\n",
    "y \t13 \t14\n",
    "z \t10 \t11\n",
    "\n",
    "Los arcos son: (q,s), (s,v), (v,W), (q,t), (t,x), (t,y), (r,u).\n",
    "\n",
    "#Ejercicio 22.4-2\n",
    "\n",
    "El algoritmo funciona de la siguiente manera. El atributo u.paths del nodo u le dice al número de rutas simples desde u hasta v, donde suponemos que v es fijo a lo largo todo el proceso Para contar el número de rutas, podemos sumar el número de caminos que salen de cada uno de tus vecinos. Como no tenemos ciclos, lo haremos nunca arriesgue agregar un número parcialmente completado de rutas. Además, nunca podemos considerar el mismo límite dos veces entre las llamadas recursivas. Por lo tanto, el número total de ejecuciones del for-loop sobre todas las llamadas recursivas es O (V + E). Llamar SIMPLE-PATHS (s, t) produce el resultado deseado."
   ]
  }
 ],
 "metadata": {
  "kernelspec": {
   "display_name": "Python 2",
   "language": "python",
   "name": "python2"
  },
  "language_info": {
   "codemirror_mode": {
    "name": "ipython",
    "version": 2
   },
   "file_extension": ".py",
   "mimetype": "text/x-python",
   "name": "python",
   "nbconvert_exporter": "python",
   "pygments_lexer": "ipython2",
   "version": "2.7.12"
  }
 },
 "nbformat": 4,
 "nbformat_minor": 2
}