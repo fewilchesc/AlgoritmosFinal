{
 "cells": [
  {
   "cell_type": "markdown",
   "metadata": {},
   "source": [
    "#Pancakes"
   ]
  },
  {
   "cell_type": "markdown",
   "metadata": {},
   "source": [
    "Codigo fundamentado en:  http://www.pd4cs.org/program-algorithms_6_pancake-py/"
   ]
  },
  {
   "cell_type": "code",
   "execution_count": null,
   "metadata": {
    "collapsed": false
   },
   "outputs": [],
   "source": [
    "import itertools\n",
    "\n",
    "# Array para almacenar los volteos\n",
    "flips = []\n",
    "\n",
    "# Eliminar los espacios\n",
    "def spaces(array):\n",
    "    string = \"\"\n",
    "    for j in range(0, len(array)):\n",
    "        string = string + str(array[j]) + \"\"\n",
    "    return string\n",
    "\n",
    "def flip(pancakes, position):\n",
    "    top_cakes = pancakes[0:position + 1]\n",
    "    top_cakes.reverse()\n",
    "    bottom_cakes = pancakes[position + 1:]\n",
    "    flips.append(len(bottom_cakes))\n",
    "    return top_cakes + bottom_cakes\n",
    "\n",
    "def arrayPancake(pancakes):\n",
    "    len_pancakes = len(pancakes)\n",
    "\n",
    "    # Counter de flips\n",
    "    count = 0\n",
    "    while len_pancakes != 1:\n",
    "        # Mirar si el último es el mayor\n",
    "        if (len_pancakes != (pancakes.index(len_pancakes) + 1)):\n",
    "            # Mirar si le mayor no está en la última posición\n",
    "            if (pancakes.index(len_pancakes) != 0):\n",
    "                pancakes = flip(pancakes, pancakes.index(len_pancakes))\n",
    "                count += 1\n",
    "\n",
    "            # El mayor se ordenó, ahora se hace lo mismo con los siguientes\n",
    "            pancakes = flip(pancakes, len_pancakes - 1)\n",
    "\n",
    "            count += 1\n",
    "            len_pancakes -= 1\n",
    "        else:\n",
    "            len_pancakes -= 1\n",
    "\n",
    "    return count\n",
    "\n",
    "\n",
    "def permutations(N, c):\n",
    "    array = list(range(1, N + 1))\n",
    "    print(\"Pn = \", N)\n",
    "    for i in itertools.permutations(array, N):\n",
    "        i = list(i)\n",
    "\n",
    "        # Total de volteos\n",
    "        total_flips = arrayPancake(i)\n",
    "        # Array original\n",
    "        array_original = spaces(i)\n",
    "        # Volteos\n",
    "        res_flips = spaces(flips)\n",
    "\n",
    "        # Inicializar los volteos\n",
    "        flips.clear()\n",
    "\n",
    "        if c == 1:\n",
    "            # Imprime Pn y todas las permutacionesq ue gastan este tiempo\n",
    "            if total_flips == N:\n",
    "                print(array_original)\n",
    "        elif c == 2:\n",
    "            # Escribe Pn con todas las permutaciones y sus flips\n",
    "            print(array_original, res_flips)\n",
    "        elif c > 2:\n",
    "            # Escribe Pn con todas las permutaciones, total de pasos y sus flips\n",
    "            print(array_original, total_flips, res_flips)\n",
    "\n",
    "N = 5\n",
    "c = 3\n",
    "\n",
    "permutations(N, c)"
   ]
  }
 ],
 "metadata": {
  "kernelspec": {
   "display_name": "Python 2",
   "language": "python",
   "name": "python2"
  },
  "language_info": {
   "codemirror_mode": {
    "name": "ipython",
    "version": 2
   },
   "file_extension": ".py",
   "mimetype": "text/x-python",
   "name": "python",
   "nbconvert_exporter": "python",
   "pygments_lexer": "ipython2",
   "version": "2.7.12"
  }
 },
 "nbformat": 4,
 "nbformat_minor": 2
}